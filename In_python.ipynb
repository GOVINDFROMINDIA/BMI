{
  "nbformat": 4,
  "nbformat_minor": 0,
  "metadata": {
    "colab": {
      "provenance": [],
      "authorship_tag": "ABX9TyMWYI24vEZEGICZLfXT0OTb",
      "include_colab_link": true
    },
    "kernelspec": {
      "name": "python3",
      "display_name": "Python 3"
    },
    "language_info": {
      "name": "python"
    }
  },
  "cells": [
    {
      "cell_type": "markdown",
      "metadata": {
        "id": "view-in-github",
        "colab_type": "text"
      },
      "source": [
        "<a href=\"https://colab.research.google.com/github/gadhalekshmip/BMI/blob/main/In_python.ipynb\" target=\"_parent\"><img src=\"https://colab.research.google.com/assets/colab-badge.svg\" alt=\"Open In Colab\"/></a>"
      ]
    },
    {
      "cell_type": "code",
      "execution_count": null,
      "metadata": {
        "id": "L-fI66MdgTKB"
      },
      "outputs": [],
      "source": [
        "\n",
        "h=int(input(\"Enter the height(cm)\"))\n",
        "m=int(input(\"Enter the Weight(kg)\"))\n",
        "index = m/(h*h/10000)\n",
        "print(\"BMI is\",index)\n",
        "if (index<18.5):\n",
        "  print(\"UNDERWEIGHT\")\n",
        "elif index>18.5 and index<24.5:\n",
        "  print(\"HEALTHY!\")\n",
        "elif index>24.5 and index<29.5:\n",
        "  print(\"OVERWEIGHT\")\n",
        "else:\n",
        "  print(\"OEXTREME OBESE\")"
      ]
    }
  ]
}